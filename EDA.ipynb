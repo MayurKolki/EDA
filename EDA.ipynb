{
 "cells": [
  {
   "cell_type": "markdown",
   "metadata": {},
   "source": [
    "# EDA"
   ]
  },
  {
   "cell_type": "code",
   "execution_count": 1,
   "metadata": {},
   "outputs": [],
   "source": [
    "import pandas as pd\n",
    "import matplotlib.pyplot as plt\n",
    "import seaborn as sns \n",
    "import numpy as np"
   ]
  },
  {
   "cell_type": "code",
   "execution_count": 2,
   "metadata": {},
   "outputs": [
    {
     "data": {
      "text/html": [
       "<div>\n",
       "<style scoped>\n",
       "    .dataframe tbody tr th:only-of-type {\n",
       "        vertical-align: middle;\n",
       "    }\n",
       "\n",
       "    .dataframe tbody tr th {\n",
       "        vertical-align: top;\n",
       "    }\n",
       "\n",
       "    .dataframe thead th {\n",
       "        text-align: right;\n",
       "    }\n",
       "</style>\n",
       "<table border=\"1\" class=\"dataframe\">\n",
       "  <thead>\n",
       "    <tr style=\"text-align: right;\">\n",
       "      <th></th>\n",
       "      <th>city</th>\n",
       "      <th>area</th>\n",
       "      <th>altitude</th>\n",
       "      <th>pollution</th>\n",
       "      <th>wind</th>\n",
       "      <th>mintemp</th>\n",
       "      <th>maxtemp</th>\n",
       "      <th>meantemp</th>\n",
       "      <th>minhumid</th>\n",
       "      <th>maxhumid</th>\n",
       "      <th>rainy</th>\n",
       "      <th>meanrain</th>\n",
       "      <th>outlook</th>\n",
       "    </tr>\n",
       "  </thead>\n",
       "  <tbody>\n",
       "    <tr>\n",
       "      <th>0</th>\n",
       "      <td>cOiZY</td>\n",
       "      <td>High</td>\n",
       "      <td>1187.0</td>\n",
       "      <td>15.2</td>\n",
       "      <td>SW</td>\n",
       "      <td>15.7</td>\n",
       "      <td>33.1</td>\n",
       "      <td>24.40</td>\n",
       "      <td>20.680772</td>\n",
       "      <td>35.435411</td>\n",
       "      <td>NaN</td>\n",
       "      <td>0</td>\n",
       "      <td>overcast</td>\n",
       "    </tr>\n",
       "    <tr>\n",
       "      <th>1</th>\n",
       "      <td>WuNQU</td>\n",
       "      <td>Mid</td>\n",
       "      <td>904.0</td>\n",
       "      <td>43.3</td>\n",
       "      <td>W</td>\n",
       "      <td>17.6</td>\n",
       "      <td>39.3</td>\n",
       "      <td>28.45</td>\n",
       "      <td>19.819724</td>\n",
       "      <td>66.281048</td>\n",
       "      <td>NaN</td>\n",
       "      <td>0</td>\n",
       "      <td>sunny</td>\n",
       "    </tr>\n",
       "    <tr>\n",
       "      <th>2</th>\n",
       "      <td>AiHSZ</td>\n",
       "      <td>High</td>\n",
       "      <td>2050.5</td>\n",
       "      <td>41.3</td>\n",
       "      <td>E</td>\n",
       "      <td>17.9</td>\n",
       "      <td>30.4</td>\n",
       "      <td>24.15</td>\n",
       "      <td>49.067699</td>\n",
       "      <td>70.658360</td>\n",
       "      <td>NaN</td>\n",
       "      <td>0</td>\n",
       "      <td>overcast</td>\n",
       "    </tr>\n",
       "    <tr>\n",
       "      <th>3</th>\n",
       "      <td>VMUIS</td>\n",
       "      <td>Mid</td>\n",
       "      <td>2378.7</td>\n",
       "      <td>26.4</td>\n",
       "      <td>NE</td>\n",
       "      <td>19.8</td>\n",
       "      <td>40.0</td>\n",
       "      <td>29.90</td>\n",
       "      <td>29.690542</td>\n",
       "      <td>31.606965</td>\n",
       "      <td>NaN</td>\n",
       "      <td>0</td>\n",
       "      <td>overcast</td>\n",
       "    </tr>\n",
       "    <tr>\n",
       "      <th>4</th>\n",
       "      <td>Qmzvp</td>\n",
       "      <td>Low</td>\n",
       "      <td>1630.6</td>\n",
       "      <td>3.8</td>\n",
       "      <td>W</td>\n",
       "      <td>17.6</td>\n",
       "      <td>27.5</td>\n",
       "      <td>22.55</td>\n",
       "      <td>21.312359</td>\n",
       "      <td>26.867255</td>\n",
       "      <td>NaN</td>\n",
       "      <td>0</td>\n",
       "      <td>sunny</td>\n",
       "    </tr>\n",
       "    <tr>\n",
       "      <th>...</th>\n",
       "      <td>...</td>\n",
       "      <td>...</td>\n",
       "      <td>...</td>\n",
       "      <td>...</td>\n",
       "      <td>...</td>\n",
       "      <td>...</td>\n",
       "      <td>...</td>\n",
       "      <td>...</td>\n",
       "      <td>...</td>\n",
       "      <td>...</td>\n",
       "      <td>...</td>\n",
       "      <td>...</td>\n",
       "      <td>...</td>\n",
       "    </tr>\n",
       "    <tr>\n",
       "      <th>345</th>\n",
       "      <td>vwRhg</td>\n",
       "      <td>High</td>\n",
       "      <td>944.5</td>\n",
       "      <td>15.0</td>\n",
       "      <td>N</td>\n",
       "      <td>19.0</td>\n",
       "      <td>28.4</td>\n",
       "      <td>23.70</td>\n",
       "      <td>39.196940</td>\n",
       "      <td>52.394667</td>\n",
       "      <td>NaN</td>\n",
       "      <td>0</td>\n",
       "      <td>sunny</td>\n",
       "    </tr>\n",
       "    <tr>\n",
       "      <th>346</th>\n",
       "      <td>rhsYN</td>\n",
       "      <td>Low</td>\n",
       "      <td>797.5</td>\n",
       "      <td>10.0</td>\n",
       "      <td>NE</td>\n",
       "      <td>17.2</td>\n",
       "      <td>39.5</td>\n",
       "      <td>28.35</td>\n",
       "      <td>20.480255</td>\n",
       "      <td>81.047379</td>\n",
       "      <td>NaN</td>\n",
       "      <td>0</td>\n",
       "      <td>overcast</td>\n",
       "    </tr>\n",
       "    <tr>\n",
       "      <th>347</th>\n",
       "      <td>qFdRT</td>\n",
       "      <td>High</td>\n",
       "      <td>514.9</td>\n",
       "      <td>38.7</td>\n",
       "      <td>SW</td>\n",
       "      <td>19.1</td>\n",
       "      <td>32.3</td>\n",
       "      <td>25.70</td>\n",
       "      <td>46.226265</td>\n",
       "      <td>29.575220</td>\n",
       "      <td>NaN</td>\n",
       "      <td>0</td>\n",
       "      <td>rainy</td>\n",
       "    </tr>\n",
       "    <tr>\n",
       "      <th>348</th>\n",
       "      <td>IvcQN</td>\n",
       "      <td>Mid</td>\n",
       "      <td>667.7</td>\n",
       "      <td>14.7</td>\n",
       "      <td>NE</td>\n",
       "      <td>17.7</td>\n",
       "      <td>37.7</td>\n",
       "      <td>27.70</td>\n",
       "      <td>5.225255</td>\n",
       "      <td>44.421913</td>\n",
       "      <td>NaN</td>\n",
       "      <td>0</td>\n",
       "      <td>rainy</td>\n",
       "    </tr>\n",
       "    <tr>\n",
       "      <th>349</th>\n",
       "      <td>TfNwF</td>\n",
       "      <td>Mid</td>\n",
       "      <td>2057.7</td>\n",
       "      <td>14.6</td>\n",
       "      <td>SW</td>\n",
       "      <td>19.2</td>\n",
       "      <td>35.5</td>\n",
       "      <td>27.35</td>\n",
       "      <td>43.550389</td>\n",
       "      <td>97.851141</td>\n",
       "      <td>NaN</td>\n",
       "      <td>0</td>\n",
       "      <td>overcast</td>\n",
       "    </tr>\n",
       "  </tbody>\n",
       "</table>\n",
       "<p>350 rows × 13 columns</p>\n",
       "</div>"
      ],
      "text/plain": [
       "      city  area  altitude  pollution wind  mintemp  maxtemp  meantemp  \\\n",
       "0    cOiZY  High    1187.0       15.2   SW     15.7     33.1     24.40   \n",
       "1    WuNQU   Mid     904.0       43.3    W     17.6     39.3     28.45   \n",
       "2    AiHSZ  High    2050.5       41.3    E     17.9     30.4     24.15   \n",
       "3    VMUIS   Mid    2378.7       26.4   NE     19.8     40.0     29.90   \n",
       "4    Qmzvp   Low    1630.6        3.8    W     17.6     27.5     22.55   \n",
       "..     ...   ...       ...        ...  ...      ...      ...       ...   \n",
       "345  vwRhg  High     944.5       15.0    N     19.0     28.4     23.70   \n",
       "346  rhsYN   Low     797.5       10.0   NE     17.2     39.5     28.35   \n",
       "347  qFdRT  High     514.9       38.7   SW     19.1     32.3     25.70   \n",
       "348  IvcQN   Mid     667.7       14.7   NE     17.7     37.7     27.70   \n",
       "349  TfNwF   Mid    2057.7       14.6   SW     19.2     35.5     27.35   \n",
       "\n",
       "      minhumid   maxhumid  rainy  meanrain   outlook  \n",
       "0    20.680772  35.435411    NaN         0  overcast  \n",
       "1    19.819724  66.281048    NaN         0     sunny  \n",
       "2    49.067699  70.658360    NaN         0  overcast  \n",
       "3    29.690542  31.606965    NaN         0  overcast  \n",
       "4    21.312359  26.867255    NaN         0     sunny  \n",
       "..         ...        ...    ...       ...       ...  \n",
       "345  39.196940  52.394667    NaN         0     sunny  \n",
       "346  20.480255  81.047379    NaN         0  overcast  \n",
       "347  46.226265  29.575220    NaN         0     rainy  \n",
       "348   5.225255  44.421913    NaN         0     rainy  \n",
       "349  43.550389  97.851141    NaN         0  overcast  \n",
       "\n",
       "[350 rows x 13 columns]"
      ]
     },
     "execution_count": 2,
     "metadata": {},
     "output_type": "execute_result"
    }
   ],
   "source": [
    "#read the data \n",
    "data = pd.read_csv(\"weatherdata.csv\")\n",
    "data"
   ]
  },
  {
   "cell_type": "code",
   "execution_count": 3,
   "metadata": {},
   "outputs": [],
   "source": [
    "#bulk update \n",
    "data.rainy =  np.round(np.random.uniform(50,500,len(data)),1)\n",
    "data.meanrain = np.round(np.random.uniform(20,200,len(data)),1)"
   ]
  },
  {
   "cell_type": "code",
   "execution_count": 4,
   "metadata": {},
   "outputs": [
    {
     "data": {
      "text/plain": [
       "city          object\n",
       "area          object\n",
       "altitude     float64\n",
       "pollution    float64\n",
       "wind          object\n",
       "mintemp      float64\n",
       "maxtemp      float64\n",
       "meantemp     float64\n",
       "minhumid     float64\n",
       "maxhumid     float64\n",
       "rainy        float64\n",
       "meanrain     float64\n",
       "outlook       object\n",
       "dtype: object"
      ]
     },
     "execution_count": 4,
     "metadata": {},
     "output_type": "execute_result"
    }
   ],
   "source": [
    "data.dtypes"
   ]
  },
  {
   "cell_type": "code",
   "execution_count": null,
   "metadata": {},
   "outputs": [],
   "source": [
    "#?"
   ]
  },
  {
   "cell_type": "code",
   "execution_count": 5,
   "metadata": {},
   "outputs": [
    {
     "data": {
      "text/plain": [
       "array([ 20, 206, 269, 248, 288, 223, 151, 133, 208, 192])"
      ]
     },
     "execution_count": 5,
     "metadata": {},
     "output_type": "execute_result"
    }
   ],
   "source": [
    "#let create some bad data then impute\n",
    "#select 10 random rows\n",
    "ndx = np.random.randint(0,len(data),10)\n",
    "ndx"
   ]
  },
  {
   "cell_type": "code",
   "execution_count": 6,
   "metadata": {},
   "outputs": [],
   "source": [
    "##update column 'maxhumid' with '?' for the selected rows\n",
    "data.loc[ndx,'maxhumid'] = \"?\""
   ]
  },
  {
   "cell_type": "code",
   "execution_count": 7,
   "metadata": {},
   "outputs": [
    {
     "data": {
      "text/plain": [
       "city          object\n",
       "area          object\n",
       "altitude     float64\n",
       "pollution    float64\n",
       "wind          object\n",
       "mintemp      float64\n",
       "maxtemp      float64\n",
       "meantemp     float64\n",
       "minhumid     float64\n",
       "maxhumid      object\n",
       "rainy        float64\n",
       "meanrain     float64\n",
       "outlook       object\n",
       "dtype: object"
      ]
     },
     "execution_count": 7,
     "metadata": {},
     "output_type": "execute_result"
    }
   ],
   "source": [
    "data.dtypes"
   ]
  },
  {
   "cell_type": "code",
   "execution_count": null,
   "metadata": {},
   "outputs": [],
   "source": [
    "#anomalies -> bad values"
   ]
  },
  {
   "cell_type": "code",
   "execution_count": 8,
   "metadata": {},
   "outputs": [],
   "source": [
    "#bulk update \"?\"\n",
    "#-9999 ->in company it is said invalid or null\n",
    "\n",
    "data.maxhumid = data.maxhumid.replace(\"?\",0)"
   ]
  },
  {
   "cell_type": "code",
   "execution_count": 9,
   "metadata": {},
   "outputs": [
    {
     "data": {
      "text/plain": [
       "city          object\n",
       "area          object\n",
       "altitude     float64\n",
       "pollution    float64\n",
       "wind          object\n",
       "mintemp      float64\n",
       "maxtemp      float64\n",
       "meantemp     float64\n",
       "minhumid     float64\n",
       "maxhumid     float64\n",
       "rainy        float64\n",
       "meanrain     float64\n",
       "outlook       object\n",
       "dtype: object"
      ]
     },
     "execution_count": 9,
     "metadata": {},
     "output_type": "execute_result"
    }
   ],
   "source": [
    "data.dtypes"
   ]
  },
  {
   "cell_type": "code",
   "execution_count": 10,
   "metadata": {},
   "outputs": [
    {
     "data": {
      "text/plain": [
       "20      Low\n",
       "133     Mid\n",
       "151     Mid\n",
       "192    High\n",
       "206    High\n",
       "208    High\n",
       "223     Low\n",
       "248    High\n",
       "269     Low\n",
       "288     Mid\n",
       "Name: area, dtype: object"
      ]
     },
     "execution_count": 10,
     "metadata": {},
     "output_type": "execute_result"
    }
   ],
   "source": [
    "#for whever we have maxhumid '0' what is its area\n",
    "#select the area where the max humidity 'maxhumid' is o\n",
    "data['area'][data.maxhumid == 0]"
   ]
  },
  {
   "cell_type": "code",
   "execution_count": 11,
   "metadata": {},
   "outputs": [
    {
     "data": {
      "text/plain": [
       "area\n",
       "High    53.373448\n",
       "Low     57.220752\n",
       "Mid     55.586128\n",
       "Name: maxhumid, dtype: float64"
      ]
     },
     "execution_count": 11,
     "metadata": {},
     "output_type": "execute_result"
    }
   ],
   "source": [
    "#impute the column 'maxhumid' as average (maxhumid) group by the 'area'\n",
    "\n",
    "m_humid = data.groupby('area').maxhumid.mean()\n",
    "m_humid"
   ]
  },
  {
   "cell_type": "code",
   "execution_count": 12,
   "metadata": {},
   "outputs": [
    {
     "data": {
      "text/plain": [
       "53.37344815095574"
      ]
     },
     "execution_count": 12,
     "metadata": {},
     "output_type": "execute_result"
    }
   ],
   "source": [
    "m_humid[0]"
   ]
  },
  {
   "cell_type": "code",
   "execution_count": 13,
   "metadata": {},
   "outputs": [
    {
     "data": {
      "text/plain": [
       "57.22075153405767"
      ]
     },
     "execution_count": 13,
     "metadata": {},
     "output_type": "execute_result"
    }
   ],
   "source": [
    "m_humid[1]"
   ]
  },
  {
   "cell_type": "code",
   "execution_count": 14,
   "metadata": {},
   "outputs": [
    {
     "data": {
      "text/plain": [
       "55.586128359504265"
      ]
     },
     "execution_count": 14,
     "metadata": {},
     "output_type": "execute_result"
    }
   ],
   "source": [
    "m_humid[2]"
   ]
  },
  {
   "cell_type": "code",
   "execution_count": 17,
   "metadata": {},
   "outputs": [],
   "source": [
    "#area = 'High'\n",
    "ndx = data.maxhumid[(data.area =='High')&(data.maxhumid == 0)].index\n",
    "\n"
   ]
  },
  {
   "cell_type": "code",
   "execution_count": 19,
   "metadata": {},
   "outputs": [
    {
     "data": {
      "text/plain": [
       "192    0.0\n",
       "206    0.0\n",
       "208    0.0\n",
       "248    0.0\n",
       "Name: maxhumid, dtype: float64"
      ]
     },
     "execution_count": 19,
     "metadata": {},
     "output_type": "execute_result"
    }
   ],
   "source": [
    "#before  update ,values = 0\n",
    "data.maxhumid[data.index.isin(ndx)]"
   ]
  },
  {
   "cell_type": "code",
   "execution_count": 20,
   "metadata": {},
   "outputs": [
    {
     "name": "stderr",
     "output_type": "stream",
     "text": [
      "C:\\Users\\mayur\\anaconda3\\lib\\site-packages\\ipykernel_launcher.py:2: SettingWithCopyWarning: \n",
      "A value is trying to be set on a copy of a slice from a DataFrame\n",
      "\n",
      "See the caveats in the documentation: https://pandas.pydata.org/pandas-docs/stable/user_guide/indexing.html#returning-a-view-versus-a-copy\n",
      "  \n"
     ]
    }
   ],
   "source": [
    "#update\n",
    "data.maxhumid[(data.area =='High')&(data.maxhumid == 0)] = m_humid[0]\n"
   ]
  },
  {
   "cell_type": "code",
   "execution_count": 21,
   "metadata": {},
   "outputs": [
    {
     "data": {
      "text/plain": [
       "192    53.373448\n",
       "206    53.373448\n",
       "208    53.373448\n",
       "248    53.373448\n",
       "Name: maxhumid, dtype: float64"
      ]
     },
     "execution_count": 21,
     "metadata": {},
     "output_type": "execute_result"
    }
   ],
   "source": [
    "#after update \n",
    "data.maxhumid[data.index.isin(ndx)]"
   ]
  },
  {
   "cell_type": "code",
   "execution_count": 24,
   "metadata": {},
   "outputs": [
    {
     "name": "stderr",
     "output_type": "stream",
     "text": [
      "C:\\Users\\mayur\\anaconda3\\lib\\site-packages\\ipykernel_launcher.py:4: SettingWithCopyWarning: \n",
      "A value is trying to be set on a copy of a slice from a DataFrame\n",
      "\n",
      "See the caveats in the documentation: https://pandas.pydata.org/pandas-docs/stable/user_guide/indexing.html#returning-a-view-versus-a-copy\n",
      "  after removing the cwd from sys.path.\n"
     ]
    },
    {
     "data": {
      "text/plain": [
       "20     57.220752\n",
       "223    57.220752\n",
       "269    57.220752\n",
       "Name: maxhumid, dtype: float64"
      ]
     },
     "execution_count": 24,
     "metadata": {},
     "output_type": "execute_result"
    }
   ],
   "source": [
    "#\n",
    "ndx = data.maxhumid[(data.area =='Low')&(data.maxhumid == 0)].index\n",
    "data.maxhumid[data.index.isin(ndx)]\n",
    "data.maxhumid[(data.area =='Low')&(data.maxhumid == 0)] = m_humid[1]\n",
    "data.maxhumid[data.index.isin(ndx)]"
   ]
  },
  {
   "cell_type": "code",
   "execution_count": 25,
   "metadata": {},
   "outputs": [
    {
     "name": "stderr",
     "output_type": "stream",
     "text": [
      "C:\\Users\\mayur\\anaconda3\\lib\\site-packages\\ipykernel_launcher.py:3: SettingWithCopyWarning: \n",
      "A value is trying to be set on a copy of a slice from a DataFrame\n",
      "\n",
      "See the caveats in the documentation: https://pandas.pydata.org/pandas-docs/stable/user_guide/indexing.html#returning-a-view-versus-a-copy\n",
      "  This is separate from the ipykernel package so we can avoid doing imports until\n"
     ]
    },
    {
     "data": {
      "text/plain": [
       "133    55.586128\n",
       "151    55.586128\n",
       "288    55.586128\n",
       "Name: maxhumid, dtype: float64"
      ]
     },
     "execution_count": 25,
     "metadata": {},
     "output_type": "execute_result"
    }
   ],
   "source": [
    "ndx = data.maxhumid[(data.area =='Mid')&(data.maxhumid == 0)].index\n",
    "data.maxhumid[data.index.isin(ndx)]\n",
    "data.maxhumid[(data.area =='Mid')&(data.maxhumid == 0)] = m_humid[2]\n",
    "data.maxhumid[data.index.isin(ndx)]"
   ]
  },
  {
   "cell_type": "code",
   "execution_count": 29,
   "metadata": {},
   "outputs": [
    {
     "name": "stdout",
     "output_type": "stream",
     "text": [
      "<class 'pandas.core.frame.DataFrame'>\n",
      "RangeIndex: 350 entries, 0 to 349\n",
      "Data columns (total 13 columns):\n",
      " #   Column     Non-Null Count  Dtype  \n",
      "---  ------     --------------  -----  \n",
      " 0   city       350 non-null    object \n",
      " 1   area       350 non-null    object \n",
      " 2   altitude   350 non-null    float64\n",
      " 3   pollution  350 non-null    float64\n",
      " 4   wind       350 non-null    object \n",
      " 5   mintemp    350 non-null    float64\n",
      " 6   maxtemp    350 non-null    float64\n",
      " 7   meantemp   350 non-null    float64\n",
      " 8   minhumid   350 non-null    float64\n",
      " 9   maxhumid   350 non-null    float64\n",
      " 10  rainy      350 non-null    float64\n",
      " 11  meanrain   350 non-null    float64\n",
      " 12  outlook    350 non-null    object \n",
      "dtypes: float64(9), object(4)\n",
      "memory usage: 35.7+ KB\n"
     ]
    }
   ],
   "source": [
    "data.info()"
   ]
  },
  {
   "cell_type": "code",
   "execution_count": null,
   "metadata": {},
   "outputs": [],
   "source": [
    "#eda for number and factor columns"
   ]
  },
  {
   "cell_type": "code",
   "execution_count": 31,
   "metadata": {},
   "outputs": [
    {
     "name": "stdout",
     "output_type": "stream",
     "text": [
      "['altitude' 'pollution' 'mintemp' 'maxtemp' 'meantemp' 'minhumid'\n",
      " 'maxhumid' 'rainy' 'meanrain']\n"
     ]
    }
   ],
   "source": [
    "#split numeric and factor columns\n",
    "#numeric columns\n",
    "nc = data.select_dtypes(exclude = 'object').columns.values\n",
    "print(nc)"
   ]
  },
  {
   "cell_type": "code",
   "execution_count": 33,
   "metadata": {},
   "outputs": [
    {
     "name": "stdout",
     "output_type": "stream",
     "text": [
      "['city', 'area', 'wind', 'outlook']\n"
     ]
    }
   ],
   "source": [
    "#factor \n",
    "fc = list(data.select_dtypes(include = 'object').columns.values)\n",
    "print(fc)               #\n"
   ]
  },
  {
   "cell_type": "code",
   "execution_count": 34,
   "metadata": {},
   "outputs": [
    {
     "data": {
      "text/plain": [
       "['area', 'wind', 'outlook']"
      ]
     },
     "execution_count": 34,
     "metadata": {},
     "output_type": "execute_result"
    }
   ],
   "source": [
    "fc.remove('city')\n",
    "fc"
   ]
  },
  {
   "cell_type": "code",
   "execution_count": 36,
   "metadata": {},
   "outputs": [
    {
     "name": "stdout",
     "output_type": "stream",
     "text": [
      "columns =  area \n",
      " ['High' 'Mid' 'Low'] \n",
      "\n",
      "columns =  wind \n",
      " ['SW' 'W' 'E' 'NE' 'N' 'S'] \n",
      "\n",
      "columns =  outlook \n",
      " ['overcast' 'sunny' 'rainy'] \n",
      "\n"
     ]
    }
   ],
   "source": [
    "for f in fc:\n",
    "    print(\"columns = \", f ,\"\\n\",data[f].unique(),\"\\n\")"
   ]
  },
  {
   "cell_type": "code",
   "execution_count": null,
   "metadata": {},
   "outputs": [],
   "source": [
    "#correlation on numeric data -  using the heatmap"
   ]
  },
  {
   "cell_type": "code",
   "execution_count": 37,
   "metadata": {},
   "outputs": [],
   "source": [
    "#1)create the corelation matrix using corr()\n",
    "cor = data[nc].corr()\n"
   ]
  },
  {
   "cell_type": "code",
   "execution_count": 39,
   "metadata": {},
   "outputs": [
    {
     "data": {
      "text/plain": [
       "array([[ 1.        ,  0.        ,  0.        ,  0.        ,  0.        ,\n",
       "         0.        ,  0.        ,  0.        ,  0.        ],\n",
       "       [-0.08673746,  1.        ,  0.        ,  0.        ,  0.        ,\n",
       "         0.        ,  0.        ,  0.        ,  0.        ],\n",
       "       [ 0.03054303,  0.06496921,  1.        ,  0.        ,  0.        ,\n",
       "         0.        ,  0.        ,  0.        ,  0.        ],\n",
       "       [-0.03998485, -0.02153747, -0.05703613,  1.        ,  0.        ,\n",
       "         0.        ,  0.        ,  0.        ,  0.        ],\n",
       "       [-0.03206038, -0.0056545 ,  0.18322643,  0.97101989,  1.        ,\n",
       "         0.        ,  0.        ,  0.        ,  0.        ],\n",
       "       [ 0.0014112 ,  0.02908206,  0.04946088, -0.08022274, -0.06715286,\n",
       "         1.        ,  0.        ,  0.        ,  0.        ],\n",
       "       [ 0.04338962,  0.00711368, -0.01635801,  0.10052617,  0.09506956,\n",
       "         0.03670052,  1.        ,  0.        ,  0.        ],\n",
       "       [ 0.04494873,  0.09526198,  0.0073359 ,  0.0120084 ,  0.01358048,\n",
       "        -0.04855769,  0.15353388,  1.        ,  0.        ],\n",
       "       [ 0.0373681 , -0.06117346,  0.11277136, -0.01599238,  0.01124888,\n",
       "         0.06456608,  0.06563474,  0.02130358,  1.        ]])"
      ]
     },
     "execution_count": 39,
     "metadata": {},
     "output_type": "execute_result"
    }
   ],
   "source": [
    "#2) take the lower triangle\n",
    "cor = np.tril(cor)\n",
    "cor"
   ]
  },
  {
   "cell_type": "code",
   "execution_count": 40,
   "metadata": {},
   "outputs": [
    {
     "data": {
      "text/plain": [
       "<matplotlib.axes._subplots.AxesSubplot at 0x22f25d040c8>"
      ]
     },
     "execution_count": 40,
     "metadata": {},
     "output_type": "execute_result"
    },
    {
     "data": {
      "image/png": "[encoded data removed]",
      "text/plain": [
       "<Figure size 432x288 with 2 Axes>"
      ]
     },
     "metadata": {
      "needs_background": "light"
     },
     "output_type": "display_data"
    }
   ],
   "source": [
    "#draw the heatmap\n",
    "sns.heatmap(cor,annot= True,xticklabels = nc,yticklabels = nc, vmin = -1,vmax= 1,square =False)   #means method = number like R,, "
   ]
  },
  {
   "cell_type": "code",
   "execution_count": null,
   "metadata": {},
   "outputs": [],
   "source": []
  },
  {
   "cell_type": "code",
   "execution_count": null,
   "metadata": {},
   "outputs": [],
   "source": []
  },
  {
   "cell_type": "code",
   "execution_count": null,
   "metadata": {},
   "outputs": [],
   "source": []
  },
  {
   "cell_type": "code",
   "execution_count": null,
   "metadata": {},
   "outputs": [],
   "source": []
  },
  {
   "cell_type": "code",
   "execution_count": null,
   "metadata": {},
   "outputs": [],
   "source": []
  }
 ],
 "metadata": {
  "kernelspec": {
   "display_name": "Python 3",
   "language": "python",
   "name": "python3"
  },
  "language_info": {
   "codemirror_mode": {
    "name": "ipython",
    "version": 3
   },
   "file_extension": ".py",
   "mimetype": "text/x-python",
   "name": "python",
   "nbconvert_exporter": "python",
   "pygments_lexer": "ipython3",
   "version": "3.7.6"
  }
 },
 "nbformat": 4,
 "nbformat_minor": 4
}
